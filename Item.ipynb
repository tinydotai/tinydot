{
 "cells": [
  {
   "cell_type": "code",
   "execution_count": 1,
   "id": "39b483cd-bd43-43fd-878b-3af83dda1444",
   "metadata": {},
   "outputs": [],
   "source": [
    "import numpy as np"
   ]
  },
  {
   "cell_type": "code",
   "execution_count": 9,
   "id": "5ea768f6-5326-4ef3-9aac-e7bb02802974",
   "metadata": {},
   "outputs": [],
   "source": [
    "class Item:\n",
    "    \n",
    "    def __init__(self, value):\n",
    "        self.value = value\n",
    "    \n",
    "    def __add__(self, x):\n",
    "        return Item(self.value + x.value) if isinstance(x, Item) else Item(self.value + x)\n",
    "        \n",
    "    def __radd__(self, x):\n",
    "        return Item(self.value + x.value) if isinstance(x, Item) else Item(self.value + x)\n",
    "        \n",
    "    def __iadd__(self, x):\n",
    "        return Item(self.value + x.value) if isinstance(x, Item) else Item(self.value + \n",
    "    \n",
    "    def __sub__(self, x):\n",
    "        return Item(self.value - x.value) if isinstance(x, Item) else self.raiser(TypeError, \"value is not Item type\")\n",
    "        \n",
    "    def __isub__(self, x):\n",
    "        return Item(self.value - x.value) if isinstance(x, Item) else self.raiser(TypeError, \"value is not Item type\")\n",
    "\n",
    "\n",
    "    def __mul__(self, x):\n",
    "        return Item(self.value * x.value) if isinstance(x, Item) else self.raiser(TypeError, \"value is not Item type\")\n",
    "\n",
    "        \n",
    "    def __imul__(self, x):\n",
    "        return Item(self.value * x.value) if isinstance(x, Item) else self.raiser(TypeError, \"value is not Item type\")\n",
    "\n",
    "    def __truediv__(self, x):\n",
    "        return Item(self.value / x.value) if isinstance(x, Item) else self.raiser(TypeError, \"value is not Item type\")\n",
    "    \n",
    "    def __itruediv__(self, x):\n",
    "        return Item(self.value / x.value) if isinstance(x, Item) else self.raiser(TypeError, \"value is not Item type\")\n",
    "\n",
    "                    \n",
    "    def __repr__(self):\n",
    "        return f'Value(data={self.value})'\n",
    "    \n",
    "    def raiser(self,err_type, text):\n",
    "        raise err_type(text)"
   ]
  },
  {
   "cell_type": "code",
   "execution_count": 10,
   "id": "fde5b4d6-2abc-45db-b456-da3d32c0a637",
   "metadata": {},
   "outputs": [],
   "source": [
    "a = Item(25)\n",
    "# b = 5\n",
    "b = Item(35)"
   ]
  },
  {
   "cell_type": "code",
   "execution_count": 14,
   "id": "8a04fb10-0e1b-48f1-b362-6fd200af5c5d",
   "metadata": {},
   "outputs": [
    {
     "data": {
      "text/plain": [
       "Value(data=37)"
      ]
     },
     "execution_count": 14,
     "metadata": {},
     "output_type": "execute_result"
    }
   ],
   "source": [
    "2 + b"
   ]
  },
  {
   "cell_type": "code",
   "execution_count": 12,
   "id": "810391f3-cc25-491c-b5b8-12b611f336e8",
   "metadata": {},
   "outputs": [
    {
     "data": {
      "text/plain": [
       "Value(data=25)"
      ]
     },
     "execution_count": 12,
     "metadata": {},
     "output_type": "execute_result"
    }
   ],
   "source": [
    "a"
   ]
  },
  {
   "cell_type": "code",
   "execution_count": null,
   "id": "d699fb94-845d-47f4-8f48-7bff8642330e",
   "metadata": {},
   "outputs": [],
   "source": []
  }
 ],
 "metadata": {
  "kernelspec": {
   "display_name": "Python 3 (ipykernel)",
   "language": "python",
   "name": "python3"
  },
  "language_info": {
   "codemirror_mode": {
    "name": "ipython",
    "version": 3
   },
   "file_extension": ".py",
   "mimetype": "text/x-python",
   "name": "python",
   "nbconvert_exporter": "python",
   "pygments_lexer": "ipython3",
   "version": "3.8.10"
  }
 },
 "nbformat": 4,
 "nbformat_minor": 5
}
